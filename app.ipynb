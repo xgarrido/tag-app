{
 "cells": [
  {
   "cell_type": "code",
   "execution_count": null,
   "metadata": {},
   "outputs": [],
   "source": [
    "import ipywidgets as widgets\n",
    "\n",
    "pdf_uploader = widgets.FileUpload(description=\"Original pdfs\", accept=\".pdf\", multiple=True)\n",
    "tag_uploader = widgets.FileUpload(description=\"Tag image/pdf\", accept=\"image/*,.pdf\", multiple=False)\n",
    "output = widgets.Output()"
   ]
  },
  {
   "cell_type": "code",
   "execution_count": null,
   "metadata": {},
   "outputs": [],
   "source": [
    "@output.capture()\n",
    "def write_pdf(content):\n",
    "    for k, v in content.items():\n",
    "        print(\"Loading {}...\".format(k), end=\" \")\n",
    "        with open(k, \"wb\") as f:\n",
    "            f.write(v[\"content\"])\n",
    "        print(\"done\")\n",
    "            \n",
    "def write_original_pdf(counter):\n",
    "    if counter.get(\"new\") == 0:\n",
    "        return\n",
    "    write_pdf(pdf_uploader.value)\n",
    "def write_tag_pdf(counter):\n",
    "    if counter.get(\"new\") == 0:\n",
    "        return\n",
    "    write_pdf(tag_uploader.value)\n",
    "    \n",
    "pdf_uploader.observe(write_original_pdf, names=\"_counter\")\n",
    "tag_uploader.observe(write_tag_pdf, names=\"_counter\")"
   ]
  },
  {
   "cell_type": "code",
   "execution_count": null,
   "metadata": {},
   "outputs": [],
   "source": [
    "def clear(_):\n",
    "    output.clear_output()\n",
    "    pdf_uploader._counter = 0\n",
    "    tag_uploader._counter = 0\n",
    "    pdf_uploader.value.clear()\n",
    "    tag_uploader.value.clear()"
   ]
  },
  {
   "cell_type": "code",
   "execution_count": null,
   "metadata": {},
   "outputs": [],
   "source": [
    "xpos = widgets.FloatSlider(value=0.5, min=0.0, max=1.0, step=0.01, description=\"$x$\")\n",
    "ypos = widgets.FloatSlider(value=0.5, min=0.0, max=1.0, step=0.01, description=\"$y$\")\n",
    "width = widgets.FloatSlider(value=0.7, min=0.0, max=1.0, step=0.01, description=\"width\")"
   ]
  },
  {
   "cell_type": "code",
   "execution_count": null,
   "metadata": {},
   "outputs": [],
   "source": [
    "@output.capture()\n",
    "def process(_):\n",
    "    import subprocess\n",
    "\n",
    "    if len(pdf_uploader.value) == 0:\n",
    "        print(\"Missing file to tag!\")\n",
    "        return\n",
    "\n",
    "    if len(tag_uploader.value) == 0:\n",
    "        print(\"Missing tag!\")\n",
    "        return\n",
    "\n",
    "    tag_name = list(tag_uploader.value.keys())[0]\n",
    "    for pdf_name in pdf_uploader.value.keys():\n",
    "        print(\"Processing {}...\".format(pdf_name), end=\" \")\n",
    "        result = subprocess.run(\n",
    "            [\n",
    "                \"./bin/generate_tag.sh\",\n",
    "                \"--multi\",\n",
    "                pdf_name,\n",
    "                \"--tag\",\n",
    "                tag_name,\n",
    "                \"-x\",\n",
    "                str(xpos.value),\n",
    "                \"-y\",\n",
    "                str(ypos.value),\n",
    "                \"-w\",\n",
    "                str(width.value),\n",
    "            ],\n",
    "            capture_output=True,\n",
    "            text=True,\n",
    "        )\n",
    "        if result.returncode != 0:\n",
    "            print(\"failed!\")\n",
    "            print(\"Check the following messages to know what's going on:\")\n",
    "            print(result.stdout)\n",
    "            print(result.stderr)\n",
    "        else:\n",
    "            print(\"done\")"
   ]
  },
  {
   "cell_type": "code",
   "execution_count": null,
   "metadata": {},
   "outputs": [],
   "source": [
    "@output.capture()\n",
    "def download(_):\n",
    "    from IPython.display import HTML\n",
    "    for pdf_name in pdf_uploader.value.keys():\n",
    "        pdf_name = pdf_name.replace(\" \", \"_\")\n",
    "        js_code = f\"\"\"\n",
    "        var a = document.createElement('a');\n",
    "        a.setAttribute('download','');\n",
    "        a.setAttribute('href', '../files/bin/pdf/{pdf_name}');\n",
    "        a.click()\n",
    "    \"\"\"\n",
    "        with output:\n",
    "            display(HTML(f\"<script>{js_code}</script>\"))"
   ]
  },
  {
   "cell_type": "code",
   "execution_count": null,
   "metadata": {},
   "outputs": [],
   "source": [
    "process_button = widgets.Button(description=\"Process\", icon=\"check\", button_style=\"success\")\n",
    "download_button = widgets.Button(description=\"Download\", icon=\"download\", button_style=\"warning\")\n",
    "clear_button = widgets.Button(description=\"Clear\", icon=\"trash\", button_style=\"danger\")\n",
    "clear_button.on_click(clear)\n",
    "download_button.on_click(download)\n",
    "process_button.on_click(process)\n",
    "\n",
    "top = widgets.VBox(\n",
    "    [\n",
    "        widgets.HTML(value=\"Tag position/width in fraction of the page\"),\n",
    "        widgets.HBox([widgets.HTML(value=\"Select pdf(s) to tag\"), pdf_uploader, xpos]),\n",
    "        widgets.HBox([widgets.HTML(value=\"Select tag image\"), tag_uploader, ypos]),\n",
    "        width,\n",
    "    ],\n",
    "    layout=widgets.Layout(display=\"flex\", align_items=\"flex-end\"),\n",
    ")\n",
    "\n",
    "bottom = widgets.HBox([process_button, download_button, clear_button])\n",
    "\n",
    "widgets.HBox(\n",
    "    [\n",
    "        widgets.HTML(value=\"<h1>Tag Application</h1>\"),\n",
    "        top,\n",
    "        widgets.HTML(value=\"<p style='margin-bottom:1cm;'></p>\"),\n",
    "        bottom,\n",
    "        widgets.VBox([widgets.HTML(value=\"<h2>Logs</h2>\"), output]),\n",
    "    ],\n",
    "    layout=widgets.Layout(display=\"flex\", flex_flow=\"column\", align_items=\"center\", width=\"100%\"),\n",
    ")"
   ]
  }
 ],
 "metadata": {
  "kernelspec": {
   "display_name": "Python 3",
   "language": "python",
   "name": "python3"
  },
  "language_info": {
   "codemirror_mode": {
    "name": "ipython",
    "version": 3
   },
   "file_extension": ".py",
   "mimetype": "text/x-python",
   "name": "python",
   "nbconvert_exporter": "python",
   "pygments_lexer": "ipython3",
   "version": "3.9.0"
  },
  "widgets": {
   "application/vnd.jupyter.widget-state+json": {
    "state": {
     "006eac1201aa49f782e479414e9c8316": {
      "model_module": "@jupyter-widgets/controls",
      "model_module_version": "1.5.0",
      "model_name": "SliderStyleModel",
      "state": {
       "description_width": ""
      }
     },
     "061736ff75774ec0accb873d648072cf": {
      "model_module": "@jupyter-widgets/controls",
      "model_module_version": "1.5.0",
      "model_name": "FloatSliderModel",
      "state": {
       "description": "$y$",
       "layout": "IPY_MODEL_a244c0de1e41486a9b0618a128be2bb2",
       "max": 1,
       "step": 0.01,
       "style": "IPY_MODEL_006eac1201aa49f782e479414e9c8316",
       "value": 0.5
      }
     },
     "16f0bbf454e54a8a8e33bcaf0cf7cc96": {
      "model_module": "@jupyter-widgets/base",
      "model_module_version": "1.2.0",
      "model_name": "LayoutModel",
      "state": {}
     },
     "1bef8e7fa7bc487baac4f35b2695a61c": {
      "model_module": "@jupyter-widgets/base",
      "model_module_version": "1.2.0",
      "model_name": "LayoutModel",
      "state": {}
     },
     "1d98ffcaf817484d8794190d1000dfa1": {
      "model_module": "@jupyter-widgets/controls",
      "model_module_version": "1.5.0",
      "model_name": "FileUploadModel",
      "state": {
       "accept": "image/*,.pdf",
       "description": "Tag image/pdf",
       "description_tooltip": null,
       "layout": "IPY_MODEL_ef616c462b984ed7b14357b4cc036cff",
       "style": "IPY_MODEL_c790c812faad4694a7e1a3f8435d8a23"
      }
     },
     "21d5fc402fc44f7595d38ccd1b6088f7": {
      "model_module": "@jupyter-widgets/controls",
      "model_module_version": "1.5.0",
      "model_name": "VBoxModel",
      "state": {
       "children": [
        "IPY_MODEL_e620c4cc8e504de78a0c56740a5a7e2d",
        "IPY_MODEL_8d26e4746b234c2fb4d4be8a162a1607"
       ],
       "layout": "IPY_MODEL_447c007641f142bbb3c76f1544092266"
      }
     },
     "239c6e0f8ce54bafae0af919316bb901": {
      "model_module": "@jupyter-widgets/base",
      "model_module_version": "1.2.0",
      "model_name": "LayoutModel",
      "state": {}
     },
     "2596ff837703405daae9c000178b3893": {
      "model_module": "@jupyter-widgets/base",
      "model_module_version": "1.2.0",
      "model_name": "LayoutModel",
      "state": {}
     },
     "2dee6700e997498e9381d5b6a3b57077": {
      "model_module": "@jupyter-widgets/base",
      "model_module_version": "1.2.0",
      "model_name": "LayoutModel",
      "state": {}
     },
     "302569af0cf748128d05f0b5fc66a262": {
      "model_module": "@jupyter-widgets/base",
      "model_module_version": "1.2.0",
      "model_name": "LayoutModel",
      "state": {}
     },
     "32d1d7d4d76f414e922b3300c6d36e37": {
      "model_module": "@jupyter-widgets/controls",
      "model_module_version": "1.5.0",
      "model_name": "HTMLModel",
      "state": {
       "layout": "IPY_MODEL_9c8abf05ee7c458f8593afc2508f7db5",
       "style": "IPY_MODEL_bd06082100b346bc956dfcb7353e202b",
       "value": "<h1>Tag Application</h1>"
      }
     },
     "33b414a4e67b4ed9babe4a9f18f6b2cd": {
      "model_module": "@jupyter-widgets/base",
      "model_module_version": "1.2.0",
      "model_name": "LayoutModel",
      "state": {}
     },
     "376b2d5aac3242a58941aa471336f350": {
      "model_module": "@jupyter-widgets/controls",
      "model_module_version": "1.5.0",
      "model_name": "HBoxModel",
      "state": {
       "children": [
        "IPY_MODEL_44b2892fdd484a848f523775a0b09b15",
        "IPY_MODEL_1d98ffcaf817484d8794190d1000dfa1",
        "IPY_MODEL_061736ff75774ec0accb873d648072cf"
       ],
       "layout": "IPY_MODEL_302569af0cf748128d05f0b5fc66a262"
      }
     },
     "3aa803361ef84c358527f59b3c638f69": {
      "model_module": "@jupyter-widgets/controls",
      "model_module_version": "1.5.0",
      "model_name": "ButtonStyleModel",
      "state": {}
     },
     "3cd4888150ac44d682731e485562ec2a": {
      "model_module": "@jupyter-widgets/controls",
      "model_module_version": "1.5.0",
      "model_name": "SliderStyleModel",
      "state": {
       "description_width": ""
      }
     },
     "41a6b7a574354d26b5f0dce3de437c9f": {
      "model_module": "@jupyter-widgets/controls",
      "model_module_version": "1.5.0",
      "model_name": "FloatSliderModel",
      "state": {
       "description": "$x$",
       "layout": "IPY_MODEL_e0d8a3fe10f44f2b8948114775e54a2e",
       "max": 1,
       "step": 0.01,
       "style": "IPY_MODEL_8250829f8f714fc79b5feebd028698a7",
       "value": 0.5
      }
     },
     "4250986b6cda44078c16fb720441df52": {
      "model_module": "@jupyter-widgets/controls",
      "model_module_version": "1.5.0",
      "model_name": "DescriptionStyleModel",
      "state": {
       "description_width": ""
      }
     },
     "447c007641f142bbb3c76f1544092266": {
      "model_module": "@jupyter-widgets/base",
      "model_module_version": "1.2.0",
      "model_name": "LayoutModel",
      "state": {}
     },
     "44b2892fdd484a848f523775a0b09b15": {
      "model_module": "@jupyter-widgets/controls",
      "model_module_version": "1.5.0",
      "model_name": "HTMLModel",
      "state": {
       "layout": "IPY_MODEL_33b414a4e67b4ed9babe4a9f18f6b2cd",
       "style": "IPY_MODEL_8235bc278a5b4426bd605ae6b853de93",
       "value": "Select tag image"
      }
     },
     "4670efec6ba64259a5ee512da2934c88": {
      "model_module": "@jupyter-widgets/base",
      "model_module_version": "1.2.0",
      "model_name": "LayoutModel",
      "state": {
       "align_items": "flex-end",
       "display": "flex"
      }
     },
     "48ee19501b08492795aa0afc28d3e817": {
      "model_module": "@jupyter-widgets/base",
      "model_module_version": "1.2.0",
      "model_name": "LayoutModel",
      "state": {}
     },
     "4af1a60729b342aa91f7dd33c4970dd6": {
      "model_module": "@jupyter-widgets/controls",
      "model_module_version": "1.5.0",
      "model_name": "ButtonModel",
      "state": {
       "button_style": "warning",
       "description": "Download",
       "icon": "download",
       "layout": "IPY_MODEL_4b0b8287e62b4968969b8610434f4b4b",
       "style": "IPY_MODEL_3aa803361ef84c358527f59b3c638f69"
      }
     },
     "4b0b8287e62b4968969b8610434f4b4b": {
      "model_module": "@jupyter-widgets/base",
      "model_module_version": "1.2.0",
      "model_name": "LayoutModel",
      "state": {}
     },
     "4dbef6de7c9c4aed98aa87a809919a24": {
      "model_module": "@jupyter-widgets/base",
      "model_module_version": "1.2.0",
      "model_name": "LayoutModel",
      "state": {}
     },
     "50b0a880a1c14070b8a19e04eaea0a4f": {
      "model_module": "@jupyter-widgets/controls",
      "model_module_version": "1.5.0",
      "model_name": "DescriptionStyleModel",
      "state": {
       "description_width": ""
      }
     },
     "535c1e3a335545a0b99e11760325d645": {
      "model_module": "@jupyter-widgets/controls",
      "model_module_version": "1.5.0",
      "model_name": "DescriptionStyleModel",
      "state": {
       "description_width": ""
      }
     },
     "5b0508e417cf4539b0a5628a00d74fb1": {
      "model_module": "@jupyter-widgets/controls",
      "model_module_version": "1.5.0",
      "model_name": "ButtonStyleModel",
      "state": {}
     },
     "5dc653ec71f44dc2b4c7dc526a6b9181": {
      "model_module": "@jupyter-widgets/base",
      "model_module_version": "1.2.0",
      "model_name": "LayoutModel",
      "state": {}
     },
     "5eb24ed9170d4674a3ec38d58cbb31ee": {
      "model_module": "@jupyter-widgets/controls",
      "model_module_version": "1.5.0",
      "model_name": "FileUploadModel",
      "state": {
       "accept": ".pdf",
       "description": "Original pdfs",
       "description_tooltip": null,
       "layout": "IPY_MODEL_2596ff837703405daae9c000178b3893",
       "multiple": true,
       "style": "IPY_MODEL_5b0508e417cf4539b0a5628a00d74fb1"
      }
     },
     "729774fe2f0a48fb9bd0181b9935cda2": {
      "model_module": "@jupyter-widgets/base",
      "model_module_version": "1.2.0",
      "model_name": "LayoutModel",
      "state": {
       "align_items": "center",
       "display": "flex",
       "flex_flow": "column",
       "width": "100%"
      }
     },
     "795452cbc17b419fbb9fcf6ebf9a04f3": {
      "model_module": "@jupyter-widgets/base",
      "model_module_version": "1.2.0",
      "model_name": "LayoutModel",
      "state": {}
     },
     "7f4a1c8ec80c4950b4dadb839b570463": {
      "model_module": "@jupyter-widgets/controls",
      "model_module_version": "1.5.0",
      "model_name": "DescriptionStyleModel",
      "state": {
       "description_width": ""
      }
     },
     "8235bc278a5b4426bd605ae6b853de93": {
      "model_module": "@jupyter-widgets/controls",
      "model_module_version": "1.5.0",
      "model_name": "DescriptionStyleModel",
      "state": {
       "description_width": ""
      }
     },
     "8250829f8f714fc79b5feebd028698a7": {
      "model_module": "@jupyter-widgets/controls",
      "model_module_version": "1.5.0",
      "model_name": "SliderStyleModel",
      "state": {
       "description_width": ""
      }
     },
     "8d26e4746b234c2fb4d4be8a162a1607": {
      "model_module": "@jupyter-widgets/output",
      "model_module_version": "1.0.0",
      "model_name": "OutputModel",
      "state": {
       "layout": "IPY_MODEL_2dee6700e997498e9381d5b6a3b57077"
      }
     },
     "90898bf80d674a2fbc56e58dfdcd3f31": {
      "model_module": "@jupyter-widgets/controls",
      "model_module_version": "1.5.0",
      "model_name": "HTMLModel",
      "state": {
       "layout": "IPY_MODEL_16f0bbf454e54a8a8e33bcaf0cf7cc96",
       "style": "IPY_MODEL_4250986b6cda44078c16fb720441df52",
       "value": "Tag position/width in fraction of the page"
      }
     },
     "9c8abf05ee7c458f8593afc2508f7db5": {
      "model_module": "@jupyter-widgets/base",
      "model_module_version": "1.2.0",
      "model_name": "LayoutModel",
      "state": {}
     },
     "9dc7f099230a42fab7c91673976488d2": {
      "model_module": "@jupyter-widgets/controls",
      "model_module_version": "1.5.0",
      "model_name": "FloatSliderModel",
      "state": {
       "description": "width",
       "layout": "IPY_MODEL_5dc653ec71f44dc2b4c7dc526a6b9181",
       "max": 1,
       "step": 0.01,
       "style": "IPY_MODEL_3cd4888150ac44d682731e485562ec2a",
       "value": 0.7
      }
     },
     "9f201918324745e8ac3dbeebbb48c37c": {
      "model_module": "@jupyter-widgets/controls",
      "model_module_version": "1.5.0",
      "model_name": "HBoxModel",
      "state": {
       "children": [
        "IPY_MODEL_e06c89b4dbb840e9af1ef23136ad7550",
        "IPY_MODEL_5eb24ed9170d4674a3ec38d58cbb31ee",
        "IPY_MODEL_41a6b7a574354d26b5f0dce3de437c9f"
       ],
       "layout": "IPY_MODEL_48ee19501b08492795aa0afc28d3e817"
      }
     },
     "a244c0de1e41486a9b0618a128be2bb2": {
      "model_module": "@jupyter-widgets/base",
      "model_module_version": "1.2.0",
      "model_name": "LayoutModel",
      "state": {}
     },
     "a9f31eda4036471d8395450c984239d3": {
      "model_module": "@jupyter-widgets/controls",
      "model_module_version": "1.5.0",
      "model_name": "HBoxModel",
      "state": {
       "children": [
        "IPY_MODEL_32d1d7d4d76f414e922b3300c6d36e37",
        "IPY_MODEL_fa3ffba2c842480085501ce3ce02011b",
        "IPY_MODEL_ade39d0ecc39480cabf71c21a9622473",
        "IPY_MODEL_b4181be35b8e4595bde51e6b476235bf",
        "IPY_MODEL_21d5fc402fc44f7595d38ccd1b6088f7"
       ],
       "layout": "IPY_MODEL_729774fe2f0a48fb9bd0181b9935cda2"
      }
     },
     "ade39d0ecc39480cabf71c21a9622473": {
      "model_module": "@jupyter-widgets/controls",
      "model_module_version": "1.5.0",
      "model_name": "HTMLModel",
      "state": {
       "layout": "IPY_MODEL_239c6e0f8ce54bafae0af919316bb901",
       "style": "IPY_MODEL_7f4a1c8ec80c4950b4dadb839b570463",
       "value": "<p style='margin-bottom:1cm;'></p>"
      }
     },
     "b157b1ae5d7e4ad5adb229f5d1463535": {
      "model_module": "@jupyter-widgets/controls",
      "model_module_version": "1.5.0",
      "model_name": "ButtonModel",
      "state": {
       "button_style": "danger",
       "description": "Clear",
       "icon": "trash",
       "layout": "IPY_MODEL_1bef8e7fa7bc487baac4f35b2695a61c",
       "style": "IPY_MODEL_ec3b11e80d7d4fedb054866482543e01"
      }
     },
     "b4181be35b8e4595bde51e6b476235bf": {
      "model_module": "@jupyter-widgets/controls",
      "model_module_version": "1.5.0",
      "model_name": "HBoxModel",
      "state": {
       "children": [
        "IPY_MODEL_c53f9a75f6684892bd98dfe0c303e9e8",
        "IPY_MODEL_4af1a60729b342aa91f7dd33c4970dd6",
        "IPY_MODEL_b157b1ae5d7e4ad5adb229f5d1463535"
       ],
       "layout": "IPY_MODEL_4dbef6de7c9c4aed98aa87a809919a24"
      }
     },
     "bd06082100b346bc956dfcb7353e202b": {
      "model_module": "@jupyter-widgets/controls",
      "model_module_version": "1.5.0",
      "model_name": "DescriptionStyleModel",
      "state": {
       "description_width": ""
      }
     },
     "bd77b5e1e05448caa2e0042e3c4b7fd7": {
      "model_module": "@jupyter-widgets/base",
      "model_module_version": "1.2.0",
      "model_name": "LayoutModel",
      "state": {}
     },
     "c53f9a75f6684892bd98dfe0c303e9e8": {
      "model_module": "@jupyter-widgets/controls",
      "model_module_version": "1.5.0",
      "model_name": "ButtonModel",
      "state": {
       "button_style": "success",
       "description": "Process",
       "icon": "check",
       "layout": "IPY_MODEL_bd77b5e1e05448caa2e0042e3c4b7fd7",
       "style": "IPY_MODEL_e767a27e056e4c13b2911045010c15be"
      }
     },
     "c790c812faad4694a7e1a3f8435d8a23": {
      "model_module": "@jupyter-widgets/controls",
      "model_module_version": "1.5.0",
      "model_name": "ButtonStyleModel",
      "state": {}
     },
     "ccd7d8319b5b42ed9dde48e55a158f23": {
      "model_module": "@jupyter-widgets/base",
      "model_module_version": "1.2.0",
      "model_name": "LayoutModel",
      "state": {}
     },
     "e06c89b4dbb840e9af1ef23136ad7550": {
      "model_module": "@jupyter-widgets/controls",
      "model_module_version": "1.5.0",
      "model_name": "HTMLModel",
      "state": {
       "layout": "IPY_MODEL_ccd7d8319b5b42ed9dde48e55a158f23",
       "style": "IPY_MODEL_535c1e3a335545a0b99e11760325d645",
       "value": "Select pdf(s) to tag"
      }
     },
     "e0d8a3fe10f44f2b8948114775e54a2e": {
      "model_module": "@jupyter-widgets/base",
      "model_module_version": "1.2.0",
      "model_name": "LayoutModel",
      "state": {}
     },
     "e620c4cc8e504de78a0c56740a5a7e2d": {
      "model_module": "@jupyter-widgets/controls",
      "model_module_version": "1.5.0",
      "model_name": "HTMLModel",
      "state": {
       "layout": "IPY_MODEL_795452cbc17b419fbb9fcf6ebf9a04f3",
       "style": "IPY_MODEL_50b0a880a1c14070b8a19e04eaea0a4f",
       "value": "<h2>Logs</h2>"
      }
     },
     "e767a27e056e4c13b2911045010c15be": {
      "model_module": "@jupyter-widgets/controls",
      "model_module_version": "1.5.0",
      "model_name": "ButtonStyleModel",
      "state": {}
     },
     "ec3b11e80d7d4fedb054866482543e01": {
      "model_module": "@jupyter-widgets/controls",
      "model_module_version": "1.5.0",
      "model_name": "ButtonStyleModel",
      "state": {}
     },
     "ef616c462b984ed7b14357b4cc036cff": {
      "model_module": "@jupyter-widgets/base",
      "model_module_version": "1.2.0",
      "model_name": "LayoutModel",
      "state": {}
     },
     "fa3ffba2c842480085501ce3ce02011b": {
      "model_module": "@jupyter-widgets/controls",
      "model_module_version": "1.5.0",
      "model_name": "VBoxModel",
      "state": {
       "children": [
        "IPY_MODEL_90898bf80d674a2fbc56e58dfdcd3f31",
        "IPY_MODEL_9f201918324745e8ac3dbeebbb48c37c",
        "IPY_MODEL_376b2d5aac3242a58941aa471336f350",
        "IPY_MODEL_9dc7f099230a42fab7c91673976488d2"
       ],
       "layout": "IPY_MODEL_4670efec6ba64259a5ee512da2934c88"
      }
     }
    },
    "version_major": 2,
    "version_minor": 0
   }
  }
 },
 "nbformat": 4,
 "nbformat_minor": 4
}
