{
 "cells": [
  {
   "cell_type": "code",
   "execution_count": null,
   "metadata": {},
   "outputs": [],
   "source": [
    "import ipywidgets as widgets\n",
    "\n",
    "pdf_uploader = widgets.FileUpload(description=\"Original pdfs\", accept=\".pdf\", multiple=True)\n",
    "tag_uploader = widgets.FileUpload(description=\"Tag image/pdf\", accept=\"image/*,.pdf\", multiple=False)\n",
    "output = widgets.Output()"
   ]
  },
  {
   "cell_type": "code",
   "execution_count": null,
   "metadata": {},
   "outputs": [],
   "source": [
    "@output.capture()\n",
    "def write_pdf(content):\n",
    "    for k, v in content.items():\n",
    "        print(\"Loading {}\".format(k))\n",
    "        with open(k, \"wb\") as f:\n",
    "            f.write(v[\"content\"])\n",
    "            \n",
    "def write_original_pdf(counter):\n",
    "    if counter.get(\"new\") == 0:\n",
    "        return\n",
    "    write_pdf(pdf_uploader.value)\n",
    "def write_tag_pdf(counter):\n",
    "    if counter == 0:\n",
    "        return\n",
    "    write_pdf(tag_uploader.value)\n",
    "    \n",
    "pdf_uploader.observe(write_original_pdf, names=\"_counter\")\n",
    "tag_uploader.observe(write_tag_pdf, names=\"_counter\")"
   ]
  },
  {
   "cell_type": "code",
   "execution_count": null,
   "metadata": {},
   "outputs": [],
   "source": [
    "def clear(_):\n",
    "    output.clear_output()\n",
    "    pdf_uploader._counter = 0\n",
    "    tag_uploader._counter = 0\n",
    "    pdf_uploader.value.clear()\n",
    "    tag_uploader.value.clear()"
   ]
  },
  {
   "cell_type": "code",
   "execution_count": null,
   "metadata": {},
   "outputs": [],
   "source": [
    "@output.capture()\n",
    "def process(_):\n",
    "    import subprocess\n",
    "\n",
    "    if len(pdf_uploader.value) == 0:\n",
    "        print(\"Missing file to tag!\")\n",
    "        return\n",
    "\n",
    "    if len(tag_uploader.value) == 0:\n",
    "        print(\"Missing tag!\")\n",
    "        return\n",
    "\n",
    "    tag_name = list(tag_uploader.value.keys())[0]\n",
    "    for pdf_name in pdf_uploader.value.keys():\n",
    "        print(\"Processing {}...\".format(pdf_name), end=\" \")\n",
    "        result = subprocess.run(\n",
    "            [\"./bin/generate_tag.sh\", \"--multi\", pdf_name, \"--tag\", tag_name],\n",
    "            capture_output=True,\n",
    "            text=True,\n",
    "        )\n",
    "        if result.returncode != 0:\n",
    "            print(\"failed!\")\n",
    "            print(\"Check the following messages to know what's going on:\")\n",
    "            print(result.stdout)\n",
    "            print(result.stderr)\n",
    "        else:\n",
    "            print(\"done\")"
   ]
  },
  {
   "cell_type": "code",
   "execution_count": null,
   "metadata": {},
   "outputs": [],
   "source": [
    "@output.capture()\n",
    "def download(_):\n",
    "    from IPython.display import HTML\n",
    "    for pdf_name in pdf_uploader.value.keys():\n",
    "        js_code = f\"\"\"\n",
    "        var a = document.createElement('a');\n",
    "        a.setAttribute('download','');\n",
    "        a.setAttribute('href', 'pdf/{pdf_name}');\n",
    "        a.click()\n",
    "    \"\"\"\n",
    "        with output:\n",
    "            display(HTML(f\"<script>{js_code}</script>\"))"
   ]
  },
  {
   "cell_type": "code",
   "execution_count": null,
   "metadata": {},
   "outputs": [],
   "source": [
    "xpos = widgets.FloatSlider(value=0.5, min=0.0, max=1.0, step=0.01, description=\"$x$\")\n",
    "ypos = widgets.FloatSlider(value=0.5, min=0.0, max=1.0, step=0.01, description=\"$y$\")\n",
    "width = widgets.FloatSlider(value=0.7, min=0.0, max=1.0, step=0.01, description=\"width\")\n",
    "\n",
    "process_button = widgets.Button(description=\"Process\", icon=\"check\", button_style=\"success\")\n",
    "download_button = widgets.Button(description=\"Download\", icon=\"download\", button_style=\"warning\")\n",
    "clear_button = widgets.Button(description=\"Clear\", icon=\"trash\", button_style=\"danger\")\n",
    "clear_button.on_click(clear)\n",
    "download_button.on_click(download)\n",
    "process_button.on_click(process)\n",
    "\n",
    "top = widgets.VBox(\n",
    "    [\n",
    "        widgets.HTML(value=\"Tag position/width in fraction of the page\"),\n",
    "        widgets.HBox([widgets.HTML(value=\"Select pdf(s) to tag\"), pdf_uploader, xpos]),\n",
    "        widgets.HBox([widgets.HTML(value=\"Select tag image\"), tag_uploader, ypos]),\n",
    "        width,\n",
    "    ],\n",
    "    layout=widgets.Layout(display=\"flex\", align_items=\"flex-end\"),\n",
    ")\n",
    "\n",
    "bottom = widgets.HBox([process_button, download_button, clear_button])\n",
    "\n",
    "widgets.HBox(\n",
    "    [\n",
    "        widgets.HTML(value=\"<h1>Tag Application</h1>\"),\n",
    "        top,\n",
    "        widgets.HTML(value=\"<p style='margin-bottom:1cm;'></p>\"),\n",
    "        bottom,\n",
    "        widgets.VBox([widgets.HTML(value=\"<h2>Logs</h2>\"), output]),\n",
    "    ],\n",
    "    layout=widgets.Layout(display=\"flex\", flex_flow=\"column\", align_items=\"center\", width=\"100%\"),\n",
    ")"
   ]
  }
 ],
 "metadata": {
  "kernelspec": {
   "display_name": "Python 3",
   "language": "python",
   "name": "python3"
  },
  "language_info": {
   "codemirror_mode": {
    "name": "ipython",
    "version": 3
   },
   "file_extension": ".py",
   "mimetype": "text/x-python",
   "name": "python",
   "nbconvert_exporter": "python",
   "pygments_lexer": "ipython3",
   "version": "3.9.0"
  },
  "widgets": {
   "application/vnd.jupyter.widget-state+json": {
    "state": {},
    "version_major": 2,
    "version_minor": 0
   }
  }
 },
 "nbformat": 4,
 "nbformat_minor": 4
}
