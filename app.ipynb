{
 "cells": [
  {
   "cell_type": "code",
   "execution_count": 1,
   "metadata": {},
   "outputs": [],
   "source": [
    "import ipywidgets as widgets\n",
    "\n",
    "pdf_uploader = widgets.FileUpload(description=\"Original pdfs\", accept=\".pdf\", multiple=True)\n",
    "tag_uploader = widgets.FileUpload(description=\"Tag image/pdf\", accept=\"image/*,.pdf\", multiple=False)\n",
    "output = widgets.Output()"
   ]
  },
  {
   "cell_type": "code",
   "execution_count": 2,
   "metadata": {},
   "outputs": [],
   "source": [
    "@output.capture()\n",
    "def write_pdf(pdfs):\n",
    "    for pdf in pdfs:\n",
    "        print(f\"Loading {pdf.name}...\", end=\" \")\n",
    "        with open(pdf.name, \"wb\") as f:\n",
    "            f.write(pdf.content)\n",
    "        print(\"done\")\n",
    "            \n",
    "def write_original_pdf(counter):\n",
    "    if counter.get(\"new\") == 0:\n",
    "        return\n",
    "    write_pdf(pdf_uploader.value)\n",
    "def write_tag_pdf(counter):\n",
    "    if counter.get(\"new\") == 0:\n",
    "        return\n",
    "    write_pdf(tag_uploader.value)\n",
    "    \n",
    "pdf_uploader.observe(write_original_pdf, names=\"value\")\n",
    "tag_uploader.observe(write_tag_pdf, names=\"value\")"
   ]
  },
  {
   "cell_type": "code",
   "execution_count": 3,
   "metadata": {},
   "outputs": [],
   "source": [
    "def clear(_):\n",
    "    output.clear_output()\n",
    "    pdf_uploader._counter = 0\n",
    "    tag_uploader._counter = 0\n",
    "    pdf_uploader.value = tuple()\n",
    "    tag_uploader.value = tuple()"
   ]
  },
  {
   "cell_type": "code",
   "execution_count": 4,
   "metadata": {},
   "outputs": [],
   "source": [
    "kwargs = dict(min=0.0, max=1.0, step=0.01)\n",
    "xpos = widgets.FloatSlider(value=0.5, description=\"$x$\", **kwargs)\n",
    "ypos = widgets.FloatSlider(value=0.5, description=\"$y$\", **kwargs)\n",
    "width = widgets.FloatSlider(value=0.7, description=\"width\", **kwargs)"
   ]
  },
  {
   "cell_type": "code",
   "execution_count": 5,
   "metadata": {},
   "outputs": [],
   "source": [
    "@output.capture()\n",
    "def process(_):\n",
    "    import subprocess\n",
    "\n",
    "    if len(pdf_uploader.value) == 0:\n",
    "        print(\"Missing file to tag!\")\n",
    "        return\n",
    "\n",
    "    if len(tag_uploader.value) == 0:\n",
    "        print(\"Missing tag!\")\n",
    "        return\n",
    "\n",
    "    tag_name = tag_uploader.value[0].name\n",
    "    for pdf in pdf_uploader.value:\n",
    "        print(f\"Processing {pdf.name}...\", end=\" \")\n",
    "        result = subprocess.run(\n",
    "            [\n",
    "                \"./bin/generate_tag.sh\",\n",
    "                \"--multi\",\n",
    "                pdf.name,\n",
    "                \"--tag\",\n",
    "                tag_name,\n",
    "                \"-x\",\n",
    "                str(xpos.value),\n",
    "                \"-y\",\n",
    "                str(ypos.value),\n",
    "                \"-w\",\n",
    "                str(width.value),\n",
    "            ],\n",
    "            capture_output=True,\n",
    "            text=True,\n",
    "        )\n",
    "        if result.returncode != 0:\n",
    "            print(\"failed!\")\n",
    "            print(\"Check the following messages to know what's going on:\")\n",
    "            print(result.stdout)\n",
    "            print(result.stderr)\n",
    "        else:\n",
    "            print(\"done\")"
   ]
  },
  {
   "cell_type": "code",
   "execution_count": 6,
   "metadata": {},
   "outputs": [],
   "source": [
    "@output.capture()\n",
    "def download(_):\n",
    "    from IPython.display import HTML\n",
    "    for pdf in pdf_uploader.value:\n",
    "        pdf_name = pdf.name.replace(\" \", \"_\")\n",
    "        js_code = f\"\"\"\n",
    "        var a = document.createElement('a');\n",
    "        a.setAttribute('download','');\n",
    "        a.setAttribute('href', '../files/bin/pdf/{pdf_name}');\n",
    "        a.click()\n",
    "    \"\"\"\n",
    "        with output:\n",
    "            display(HTML(f\"<script>{js_code}</script>\"))"
   ]
  },
  {
   "cell_type": "code",
   "execution_count": 7,
   "metadata": {},
   "outputs": [
    {
     "data": {
      "application/vnd.jupyter.widget-view+json": {
       "model_id": "51f8e5e126e040509cbae7ae9539d4a5",
       "version_major": 2,
       "version_minor": 0
      },
      "text/plain": [
       "HBox(children=(HTML(value='<h1>Tag Application</h1>'), VBox(children=(HTML(value='Tag position/width in fracti…"
      ]
     },
     "execution_count": 7,
     "metadata": {},
     "output_type": "execute_result"
    }
   ],
   "source": [
    "process_button = widgets.Button(description=\"Process\", icon=\"check\", button_style=\"success\")\n",
    "download_button = widgets.Button(description=\"Download\", icon=\"download\", button_style=\"warning\")\n",
    "clear_button = widgets.Button(description=\"Clear\", icon=\"trash\", button_style=\"danger\")\n",
    "clear_button.on_click(clear)\n",
    "download_button.on_click(download)\n",
    "process_button.on_click(process)\n",
    "\n",
    "top = widgets.VBox(\n",
    "    [\n",
    "        widgets.HTML(value=\"Tag position/width in fraction of the page\"),\n",
    "        widgets.HBox([widgets.HTML(value=\"Select pdf(s) to tag\"), pdf_uploader, xpos]),\n",
    "        widgets.HBox([widgets.HTML(value=\"Select tag image\"), tag_uploader, ypos]),\n",
    "        width,\n",
    "    ],\n",
    "    layout=widgets.Layout(display=\"flex\", align_items=\"flex-end\"),\n",
    ")\n",
    "\n",
    "bottom = widgets.HBox([process_button, download_button, clear_button])\n",
    "\n",
    "widgets.HBox(\n",
    "    [\n",
    "        widgets.HTML(value=\"<h1>Tag Application</h1>\"),\n",
    "        top,\n",
    "        widgets.HTML(value=\"<p style='margin-bottom:1cm;'></p>\"),\n",
    "        bottom,\n",
    "        widgets.VBox([widgets.HTML(value=\"<h2>Logs</h2>\"), output]),\n",
    "    ],\n",
    "    layout=widgets.Layout(display=\"flex\", flex_flow=\"column\", align_items=\"center\", width=\"100%\"),\n",
    ")"
   ]
  }
 ],
 "metadata": {
  "kernelspec": {
   "display_name": "Python 3 (ipykernel)",
   "language": "python",
   "name": "python3"
  },
  "language_info": {
   "codemirror_mode": {
    "name": "ipython",
    "version": 3
   },
   "file_extension": ".py",
   "mimetype": "text/x-python",
   "name": "python",
   "nbconvert_exporter": "python",
   "pygments_lexer": "ipython3",
   "version": "3.10.9"
  },
  "widgets": {
   "application/vnd.jupyter.widget-state+json": {
    "state": {
     "12aa984485404914ae7e28401e57433e": {
      "model_module": "@jupyter-widgets/controls",
      "model_module_version": "2.0.0",
      "model_name": "FileUploadModel",
      "state": {
       "accept": ".pdf",
       "description": "Original pdfs",
       "description_allow_html": false,
       "layout": "IPY_MODEL_64b89fcf956c446cb56c2096d33c3ea1",
       "multiple": true,
       "style": "IPY_MODEL_13a3b37b9ff24117a922130a3de51fde"
      }
     },
     "13a3b37b9ff24117a922130a3de51fde": {
      "model_module": "@jupyter-widgets/controls",
      "model_module_version": "2.0.0",
      "model_name": "ButtonStyleModel",
      "state": {
       "font_family": null,
       "font_size": null,
       "font_style": null,
       "font_variant": null,
       "font_weight": null,
       "text_color": null,
       "text_decoration": null
      }
     },
     "158f86747ae146ceaac914b5cf801a35": {
      "model_module": "@jupyter-widgets/controls",
      "model_module_version": "2.0.0",
      "model_name": "SliderStyleModel",
      "state": {
       "description_width": ""
      }
     },
     "16f6bd6179024c4cb8afcd339c3d4cf4": {
      "model_module": "@jupyter-widgets/base",
      "model_module_version": "2.0.0",
      "model_name": "LayoutModel",
      "state": {}
     },
     "250b036204194aaa841f5d4c20a7affb": {
      "model_module": "@jupyter-widgets/controls",
      "model_module_version": "2.0.0",
      "model_name": "HBoxModel",
      "state": {
       "children": [
        "IPY_MODEL_f417e27d68b3468189094eae83cf0b4d",
        "IPY_MODEL_8766ee6e84fc4f37a198adab58448fcf",
        "IPY_MODEL_44b7da75d9044cc4a68ea86736b82414"
       ],
       "layout": "IPY_MODEL_34e5576968c94f449e1b566c09bc3464"
      }
     },
     "25b9c354b65b4463a4434aaba6872c18": {
      "model_module": "@jupyter-widgets/base",
      "model_module_version": "2.0.0",
      "model_name": "LayoutModel",
      "state": {}
     },
     "34e5576968c94f449e1b566c09bc3464": {
      "model_module": "@jupyter-widgets/base",
      "model_module_version": "2.0.0",
      "model_name": "LayoutModel",
      "state": {}
     },
     "37a48a4accf3456f8d93cf9b63bfc861": {
      "model_module": "@jupyter-widgets/controls",
      "model_module_version": "2.0.0",
      "model_name": "ButtonStyleModel",
      "state": {
       "font_family": null,
       "font_size": null,
       "font_style": null,
       "font_variant": null,
       "font_weight": null,
       "text_color": null,
       "text_decoration": null
      }
     },
     "40287229626a4d48ab1370977f833da4": {
      "model_module": "@jupyter-widgets/controls",
      "model_module_version": "2.0.0",
      "model_name": "SliderStyleModel",
      "state": {
       "description_width": ""
      }
     },
     "418090808f3c41ecb544dc65af8e327a": {
      "model_module": "@jupyter-widgets/controls",
      "model_module_version": "2.0.0",
      "model_name": "ButtonStyleModel",
      "state": {
       "font_family": null,
       "font_size": null,
       "font_style": null,
       "font_variant": null,
       "font_weight": null,
       "text_color": null,
       "text_decoration": null
      }
     },
     "44b7da75d9044cc4a68ea86736b82414": {
      "model_module": "@jupyter-widgets/controls",
      "model_module_version": "2.0.0",
      "model_name": "FloatSliderModel",
      "state": {
       "behavior": "drag-tap",
       "description": "$y$",
       "layout": "IPY_MODEL_7a48d733c2fa43888baf4f0add55421a",
       "max": 1,
       "step": 0.01,
       "style": "IPY_MODEL_e27e147562b641ca9e18d8568e6ac5b6",
       "value": 0.5
      }
     },
     "472aa5f159534bcdb502fa5a9a0a924d": {
      "model_module": "@jupyter-widgets/base",
      "model_module_version": "2.0.0",
      "model_name": "LayoutModel",
      "state": {}
     },
     "4ab8f6c885e2443487afe90a4176b4a2": {
      "model_module": "@jupyter-widgets/controls",
      "model_module_version": "2.0.0",
      "model_name": "HTMLStyleModel",
      "state": {
       "description_width": "",
       "font_size": null,
       "text_color": null
      }
     },
     "4f04bef8c896415f9835ed33af25f9a1": {
      "model_module": "@jupyter-widgets/controls",
      "model_module_version": "2.0.0",
      "model_name": "HBoxModel",
      "state": {
       "children": [
        "IPY_MODEL_91da9e121fd54292a9b78d046525df8b",
        "IPY_MODEL_12aa984485404914ae7e28401e57433e",
        "IPY_MODEL_77996e50a37c4b82b2ec221f3d19ca26"
       ],
       "layout": "IPY_MODEL_619fbebee48e4824bf533b302c01e6a2"
      }
     },
     "51f8e5e126e040509cbae7ae9539d4a5": {
      "model_module": "@jupyter-widgets/controls",
      "model_module_version": "2.0.0",
      "model_name": "HBoxModel",
      "state": {
       "children": [
        "IPY_MODEL_f04bc44e43b842c4871e8af70da1b713",
        "IPY_MODEL_9406514b9aa44cf293d640c8f4e8f94b",
        "IPY_MODEL_6d51310767704e27b264a818dff1187d",
        "IPY_MODEL_ccb118be1a204f7d92585806ac7a5950",
        "IPY_MODEL_b4ce42af7ad3450189674546d89768a5"
       ],
       "layout": "IPY_MODEL_7ed54021aef64f019f44cc1b53173ffa"
      }
     },
     "5f4f8d2f174b4bee8f6f75552d83c74f": {
      "model_module": "@jupyter-widgets/base",
      "model_module_version": "2.0.0",
      "model_name": "LayoutModel",
      "state": {}
     },
     "608ba3df47b543428cdb11b1679a3c20": {
      "model_module": "@jupyter-widgets/base",
      "model_module_version": "2.0.0",
      "model_name": "LayoutModel",
      "state": {
       "align_items": "flex-end",
       "display": "flex"
      }
     },
     "60c40b970a9d4de59079a96a62e955cf": {
      "model_module": "@jupyter-widgets/controls",
      "model_module_version": "2.0.0",
      "model_name": "HTMLModel",
      "state": {
       "layout": "IPY_MODEL_ef4ce4a2e3be452ab5c64c5e954f031f",
       "style": "IPY_MODEL_ac90ab5efd714c5a8f38aa7a619bd7cd",
       "value": "<h2>Logs</h2>"
      }
     },
     "61620ce7d57d40249ca07641ca53ca86": {
      "model_module": "@jupyter-widgets/controls",
      "model_module_version": "2.0.0",
      "model_name": "ButtonModel",
      "state": {
       "button_style": "danger",
       "description": "Clear",
       "icon": "trash",
       "layout": "IPY_MODEL_b0885bcc10d54832ab9496558b6b0373",
       "style": "IPY_MODEL_37a48a4accf3456f8d93cf9b63bfc861",
       "tooltip": null
      }
     },
     "619fbebee48e4824bf533b302c01e6a2": {
      "model_module": "@jupyter-widgets/base",
      "model_module_version": "2.0.0",
      "model_name": "LayoutModel",
      "state": {}
     },
     "64b89fcf956c446cb56c2096d33c3ea1": {
      "model_module": "@jupyter-widgets/base",
      "model_module_version": "2.0.0",
      "model_name": "LayoutModel",
      "state": {}
     },
     "662e9085ee634fd3894ef62ddd890dbd": {
      "model_module": "@jupyter-widgets/base",
      "model_module_version": "2.0.0",
      "model_name": "LayoutModel",
      "state": {}
     },
     "66a319fa13df4c348013ba79ad9ba745": {
      "model_module": "@jupyter-widgets/controls",
      "model_module_version": "2.0.0",
      "model_name": "ButtonStyleModel",
      "state": {
       "font_family": null,
       "font_size": null,
       "font_style": null,
       "font_variant": null,
       "font_weight": null,
       "text_color": null,
       "text_decoration": null
      }
     },
     "6739707f65bd40789bb38a7743b70cb3": {
      "model_module": "@jupyter-widgets/base",
      "model_module_version": "2.0.0",
      "model_name": "LayoutModel",
      "state": {}
     },
     "6d51310767704e27b264a818dff1187d": {
      "model_module": "@jupyter-widgets/controls",
      "model_module_version": "2.0.0",
      "model_name": "HTMLModel",
      "state": {
       "layout": "IPY_MODEL_d0abc58efb4142f19c54d8ebdac46272",
       "style": "IPY_MODEL_a4624587fca1476f9b83e29baef7743a",
       "value": "<p style='margin-bottom:1cm;'></p>"
      }
     },
     "77996e50a37c4b82b2ec221f3d19ca26": {
      "model_module": "@jupyter-widgets/controls",
      "model_module_version": "2.0.0",
      "model_name": "FloatSliderModel",
      "state": {
       "behavior": "drag-tap",
       "description": "$x$",
       "layout": "IPY_MODEL_16f6bd6179024c4cb8afcd339c3d4cf4",
       "max": 1,
       "step": 0.01,
       "style": "IPY_MODEL_40287229626a4d48ab1370977f833da4",
       "value": 0.5
      }
     },
     "7a48d733c2fa43888baf4f0add55421a": {
      "model_module": "@jupyter-widgets/base",
      "model_module_version": "2.0.0",
      "model_name": "LayoutModel",
      "state": {}
     },
     "7ed54021aef64f019f44cc1b53173ffa": {
      "model_module": "@jupyter-widgets/base",
      "model_module_version": "2.0.0",
      "model_name": "LayoutModel",
      "state": {
       "align_items": "center",
       "display": "flex",
       "flex_flow": "column",
       "width": "100%"
      }
     },
     "83c98f380b984b539cc6ec579d6ce94e": {
      "model_module": "@jupyter-widgets/controls",
      "model_module_version": "2.0.0",
      "model_name": "HTMLStyleModel",
      "state": {
       "description_width": "",
       "font_size": null,
       "text_color": null
      }
     },
     "8766ee6e84fc4f37a198adab58448fcf": {
      "model_module": "@jupyter-widgets/controls",
      "model_module_version": "2.0.0",
      "model_name": "FileUploadModel",
      "state": {
       "accept": "image/*,.pdf",
       "description": "Tag image/pdf",
       "description_allow_html": false,
       "layout": "IPY_MODEL_9274c47372ce4516b868c1a39531f83d",
       "style": "IPY_MODEL_418090808f3c41ecb544dc65af8e327a"
      }
     },
     "89100f714f094d5295d7793a53762c8d": {
      "model_module": "@jupyter-widgets/output",
      "model_module_version": "1.0.0",
      "model_name": "OutputModel",
      "state": {
       "layout": "IPY_MODEL_bfe9f677ac314bab8b67885d5fa3b4b4"
      }
     },
     "8e575fcb48fc48a8ac1d95d92aae15ec": {
      "model_module": "@jupyter-widgets/controls",
      "model_module_version": "2.0.0",
      "model_name": "ButtonModel",
      "state": {
       "button_style": "warning",
       "description": "Download",
       "icon": "download",
       "layout": "IPY_MODEL_6739707f65bd40789bb38a7743b70cb3",
       "style": "IPY_MODEL_66a319fa13df4c348013ba79ad9ba745",
       "tooltip": null
      }
     },
     "91da9e121fd54292a9b78d046525df8b": {
      "model_module": "@jupyter-widgets/controls",
      "model_module_version": "2.0.0",
      "model_name": "HTMLModel",
      "state": {
       "layout": "IPY_MODEL_25b9c354b65b4463a4434aaba6872c18",
       "style": "IPY_MODEL_83c98f380b984b539cc6ec579d6ce94e",
       "value": "Select pdf(s) to tag"
      }
     },
     "9274c47372ce4516b868c1a39531f83d": {
      "model_module": "@jupyter-widgets/base",
      "model_module_version": "2.0.0",
      "model_name": "LayoutModel",
      "state": {}
     },
     "9406514b9aa44cf293d640c8f4e8f94b": {
      "model_module": "@jupyter-widgets/controls",
      "model_module_version": "2.0.0",
      "model_name": "VBoxModel",
      "state": {
       "children": [
        "IPY_MODEL_dcb1ed4868194f18b9a8b05fc485b37d",
        "IPY_MODEL_4f04bef8c896415f9835ed33af25f9a1",
        "IPY_MODEL_250b036204194aaa841f5d4c20a7affb",
        "IPY_MODEL_d20d5c3899224dbf91880220d318931b"
       ],
       "layout": "IPY_MODEL_608ba3df47b543428cdb11b1679a3c20"
      }
     },
     "99ff577276f94e1abf9ea4e12ddbd220": {
      "model_module": "@jupyter-widgets/controls",
      "model_module_version": "2.0.0",
      "model_name": "HTMLStyleModel",
      "state": {
       "description_width": "",
       "font_size": null,
       "text_color": null
      }
     },
     "a134253037974ee38dfb2206883d1bd1": {
      "model_module": "@jupyter-widgets/base",
      "model_module_version": "2.0.0",
      "model_name": "LayoutModel",
      "state": {}
     },
     "a4624587fca1476f9b83e29baef7743a": {
      "model_module": "@jupyter-widgets/controls",
      "model_module_version": "2.0.0",
      "model_name": "HTMLStyleModel",
      "state": {
       "description_width": "",
       "font_size": null,
       "text_color": null
      }
     },
     "ac90ab5efd714c5a8f38aa7a619bd7cd": {
      "model_module": "@jupyter-widgets/controls",
      "model_module_version": "2.0.0",
      "model_name": "HTMLStyleModel",
      "state": {
       "description_width": "",
       "font_size": null,
       "text_color": null
      }
     },
     "b0885bcc10d54832ab9496558b6b0373": {
      "model_module": "@jupyter-widgets/base",
      "model_module_version": "2.0.0",
      "model_name": "LayoutModel",
      "state": {}
     },
     "b289730cd69344699ebb1d084b9f0da7": {
      "model_module": "@jupyter-widgets/base",
      "model_module_version": "2.0.0",
      "model_name": "LayoutModel",
      "state": {}
     },
     "b4ce42af7ad3450189674546d89768a5": {
      "model_module": "@jupyter-widgets/controls",
      "model_module_version": "2.0.0",
      "model_name": "VBoxModel",
      "state": {
       "children": [
        "IPY_MODEL_60c40b970a9d4de59079a96a62e955cf",
        "IPY_MODEL_89100f714f094d5295d7793a53762c8d"
       ],
       "layout": "IPY_MODEL_5f4f8d2f174b4bee8f6f75552d83c74f"
      }
     },
     "bfe9f677ac314bab8b67885d5fa3b4b4": {
      "model_module": "@jupyter-widgets/base",
      "model_module_version": "2.0.0",
      "model_name": "LayoutModel",
      "state": {}
     },
     "c6c4bbc7c11b4f8d8ee9d7d0bee0552c": {
      "model_module": "@jupyter-widgets/controls",
      "model_module_version": "2.0.0",
      "model_name": "ButtonModel",
      "state": {
       "button_style": "success",
       "description": "Process",
       "icon": "check",
       "layout": "IPY_MODEL_fe519fce6ef846fe9851c330d60317d5",
       "style": "IPY_MODEL_e1093083492b422f9cc6398b696e1c77",
       "tooltip": null
      }
     },
     "cb0a598f13514b0792dee22d20f74c32": {
      "model_module": "@jupyter-widgets/base",
      "model_module_version": "2.0.0",
      "model_name": "LayoutModel",
      "state": {}
     },
     "ccb118be1a204f7d92585806ac7a5950": {
      "model_module": "@jupyter-widgets/controls",
      "model_module_version": "2.0.0",
      "model_name": "HBoxModel",
      "state": {
       "children": [
        "IPY_MODEL_c6c4bbc7c11b4f8d8ee9d7d0bee0552c",
        "IPY_MODEL_8e575fcb48fc48a8ac1d95d92aae15ec",
        "IPY_MODEL_61620ce7d57d40249ca07641ca53ca86"
       ],
       "layout": "IPY_MODEL_a134253037974ee38dfb2206883d1bd1"
      }
     },
     "ce223aa726d842179c2e8f213e62570a": {
      "model_module": "@jupyter-widgets/controls",
      "model_module_version": "2.0.0",
      "model_name": "HTMLStyleModel",
      "state": {
       "description_width": "",
       "font_size": null,
       "text_color": null
      }
     },
     "d0abc58efb4142f19c54d8ebdac46272": {
      "model_module": "@jupyter-widgets/base",
      "model_module_version": "2.0.0",
      "model_name": "LayoutModel",
      "state": {}
     },
     "d20d5c3899224dbf91880220d318931b": {
      "model_module": "@jupyter-widgets/controls",
      "model_module_version": "2.0.0",
      "model_name": "FloatSliderModel",
      "state": {
       "behavior": "drag-tap",
       "description": "width",
       "layout": "IPY_MODEL_b289730cd69344699ebb1d084b9f0da7",
       "max": 1,
       "step": 0.01,
       "style": "IPY_MODEL_158f86747ae146ceaac914b5cf801a35",
       "value": 0.7
      }
     },
     "dcb1ed4868194f18b9a8b05fc485b37d": {
      "model_module": "@jupyter-widgets/controls",
      "model_module_version": "2.0.0",
      "model_name": "HTMLModel",
      "state": {
       "layout": "IPY_MODEL_cb0a598f13514b0792dee22d20f74c32",
       "style": "IPY_MODEL_4ab8f6c885e2443487afe90a4176b4a2",
       "value": "Tag position/width in fraction of the page"
      }
     },
     "e1093083492b422f9cc6398b696e1c77": {
      "model_module": "@jupyter-widgets/controls",
      "model_module_version": "2.0.0",
      "model_name": "ButtonStyleModel",
      "state": {
       "font_family": null,
       "font_size": null,
       "font_style": null,
       "font_variant": null,
       "font_weight": null,
       "text_color": null,
       "text_decoration": null
      }
     },
     "e27e147562b641ca9e18d8568e6ac5b6": {
      "model_module": "@jupyter-widgets/controls",
      "model_module_version": "2.0.0",
      "model_name": "SliderStyleModel",
      "state": {
       "description_width": ""
      }
     },
     "ef4ce4a2e3be452ab5c64c5e954f031f": {
      "model_module": "@jupyter-widgets/base",
      "model_module_version": "2.0.0",
      "model_name": "LayoutModel",
      "state": {}
     },
     "f04bc44e43b842c4871e8af70da1b713": {
      "model_module": "@jupyter-widgets/controls",
      "model_module_version": "2.0.0",
      "model_name": "HTMLModel",
      "state": {
       "layout": "IPY_MODEL_662e9085ee634fd3894ef62ddd890dbd",
       "style": "IPY_MODEL_99ff577276f94e1abf9ea4e12ddbd220",
       "value": "<h1>Tag Application</h1>"
      }
     },
     "f417e27d68b3468189094eae83cf0b4d": {
      "model_module": "@jupyter-widgets/controls",
      "model_module_version": "2.0.0",
      "model_name": "HTMLModel",
      "state": {
       "layout": "IPY_MODEL_472aa5f159534bcdb502fa5a9a0a924d",
       "style": "IPY_MODEL_ce223aa726d842179c2e8f213e62570a",
       "value": "Select tag image"
      }
     },
     "fe519fce6ef846fe9851c330d60317d5": {
      "model_module": "@jupyter-widgets/base",
      "model_module_version": "2.0.0",
      "model_name": "LayoutModel",
      "state": {}
     }
    },
    "version_major": 2,
    "version_minor": 0
   }
  }
 },
 "nbformat": 4,
 "nbformat_minor": 4
}
